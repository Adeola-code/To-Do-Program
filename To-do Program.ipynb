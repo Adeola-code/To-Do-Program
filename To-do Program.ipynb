{
 "cells": [
  {
   "cell_type": "code",
   "execution_count": 1,
   "id": "68287807",
   "metadata": {},
   "outputs": [
    {
     "name": "stdout",
     "output_type": "stream",
     "text": [
      "Hello\n",
      "What tasks do you have in mind to complete today?\n",
      "NOTE! I only keep 5 tasks per day😊\n"
     ]
    }
   ],
   "source": [
    "print('Hello')\n",
    "print('What tasks do you have in mind to complete today?')\n",
    "print('NOTE! I only keep 5 tasks per day😊')"
   ]
  },
  {
   "cell_type": "code",
   "execution_count": 15,
   "id": "b14a714a",
   "metadata": {},
   "outputs": [
    {
     "name": "stdout",
     "output_type": "stream",
     "text": [
      "What task is on your mind?: \n",
      "What task is on your mind?: \n",
      "What task is on your mind?: \n",
      "What task is on your mind?: \n",
      "What task is on your mind?: \n",
      "Okay! Type \"tasks\" to see all your tasks\n"
     ]
    }
   ],
   "source": [
    "##To input your task\n",
    "task1=input('What task is on your mind?: ')\n",
    "task2=input('What task is on your mind?: ')\n",
    "task3=input('What task is on your mind?: ')\n",
    "task4=input('What task is on your mind?: ')\n",
    "task5=input('What task is on your mind?: ')\n",
    "\n",
    "\n",
    "\n",
    "print('Okay! Type \"tasks\" to see all your tasks')\n",
    "\n",
    "##To display all tasks|\n",
    "tasks={'1':task1, '2':task2, '3':task3, '4':task4, '5':task5}\n"
   ]
  },
  {
   "cell_type": "code",
   "execution_count": 13,
   "id": "880dfd58",
   "metadata": {
    "scrolled": true
   },
   "outputs": [
    {
     "name": "stdout",
     "output_type": "stream",
     "text": [
      "Do you want to delete any tasks? Y/N: n\n",
      "Invalid choice!\n"
     ]
    }
   ],
   "source": [
    "#TO DELETE TASKS\n",
    "Y='Y'\n",
    "N='N'\n",
    "input('Do you want to delete any tasks? Y/N:')\n",
    "Dell=input('What task Number do you want to delete (Btwn 1-5)?')\n",
    "if Y=='Y':\n",
    "        print(Dell)\n",
    "        del tasks[Dell]\n",
    "elif N=='N':\n",
    "    print('No task deleted!')\n",
    "\n"
   ]
  },
  {
   "cell_type": "code",
   "execution_count": null,
   "id": "b6f35f41",
   "metadata": {},
   "outputs": [],
   "source": []
  },
  {
   "cell_type": "code",
   "execution_count": null,
   "id": "438bca78",
   "metadata": {},
   "outputs": [],
   "source": [
    "D"
   ]
  },
  {
   "cell_type": "code",
   "execution_count": null,
   "id": "a7302ca9",
   "metadata": {},
   "outputs": [],
   "source": []
  },
  {
   "cell_type": "code",
   "execution_count": null,
   "id": "d124e9ea",
   "metadata": {},
   "outputs": [],
   "source": []
  }
 ],
 "metadata": {
  "kernelspec": {
   "display_name": "Python 3 (ipykernel)",
   "language": "python",
   "name": "python3"
  },
  "language_info": {
   "codemirror_mode": {
    "name": "ipython",
    "version": 3
   },
   "file_extension": ".py",
   "mimetype": "text/x-python",
   "name": "python",
   "nbconvert_exporter": "python",
   "pygments_lexer": "ipython3",
   "version": "3.10.9"
  }
 },
 "nbformat": 4,
 "nbformat_minor": 5
}
